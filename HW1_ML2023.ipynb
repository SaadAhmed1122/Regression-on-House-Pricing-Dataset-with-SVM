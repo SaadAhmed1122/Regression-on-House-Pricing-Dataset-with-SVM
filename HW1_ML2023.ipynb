{
  "cells": [
    {
      "cell_type": "markdown",
      "metadata": {
        "id": "view-in-github",
        "colab_type": "text"
      },
      "source": [
        "<a href=\"https://colab.research.google.com/github/SaadAhmed1122/Regression-on-House-Pricing-Dataset-with-SVM/blob/main/HW1_ML2023.ipynb\" target=\"_parent\"><img src=\"https://colab.research.google.com/assets/colab-badge.svg\" alt=\"Open In Colab\"/></a>"
      ]
    },
    {
      "cell_type": "markdown",
      "metadata": {
        "id": "hm8WC30y1mRD"
      },
      "source": [
        "#  Regression on House Pricing Dataset with SVM\n",
        "We consider a reduced version of a dataset containing house sale prices for King County, which includes Seattle. It includes homes sold between May 2014 and May 2015.\n",
        "\n",
        "https://www.kaggle.com/harlfoxem/housesalesprediction\n",
        "\n",
        "For each house we know 18 house features (e.g., number of bedrooms, number of bathrooms, etc.) plus its price, that is what we would like to predict."
      ]
    },
    {
      "cell_type": "markdown",
      "metadata": {
        "id": "AK4Itd_b1mRO"
      },
      "source": [
        "# Overview\n",
        "\n",
        "In the notebook you will first:\n",
        "- split the data into training, validation, and test\n",
        "- standardize the data\n",
        "\n",
        "You will then be asked to learn various SVM models, in particular:\n",
        "- for each of the kernels ‘linear’, ‘poly’, ‘rbf’, and ‘sigmoid’, you will learn the best model having to choose among various values of some hyperparameters; the choice of hyperparameters must be done with 5-fold cross-validation\n",
        "- choose the best kernel, using a validation approach (not cross-validation)\n",
        "- learn the best SVM model overall\n",
        "\n",
        "You will then be asked to estimate the generalization error of the best SVM model you report.\n",
        "\n",
        "At the end, just for comparison, you will alsk be asked to learn a standard linear regression model (with squared loss), and estimate its generalization error.\n",
        "\n",
        "### IMPORTANT\n",
        "- Note that in each of the above steps you will have to choose the appropriate split of the data (see the first bullet point above)\n",
        "- The code should run without requiring modifications even if some best choice of parameters, changes; for example, you should not pass the best value of hyperparameters \"manually\" (i.e., passing the values as input parameters to the models). The only exception is in the TO DO titled 'ANSWER THE FOLLOWING'\n",
        "- For SVM, since the values to be predicted are all in the thousands of dollars, you will need to always set epsilon=1000\n",
        "- Do not change the printing instructions (other than adding the correct variable name for your code), and do not add printing instructions!"
      ]
    },
    {
      "cell_type": "markdown",
      "metadata": {
        "id": "TyJpXKMG1mRR"
      },
      "source": [
        "## TO DO - INSERT YOUR NUMERO DI MATRICOLA BELOW"
      ]
    },
    {
      "cell_type": "code",
      "execution_count": 3,
      "metadata": {
        "tags": [],
        "id": "QnNkgviU1mRT"
      },
      "outputs": [],
      "source": [
        "#put here your ``numero di matricola''\n",
        "numero_di_matricola = 2044003"
      ]
    },
    {
      "cell_type": "markdown",
      "metadata": {
        "id": "jg9eXFmX1mRW"
      },
      "source": [
        "The following code loads all required packages"
      ]
    },
    {
      "cell_type": "code",
      "execution_count": 3,
      "metadata": {
        "tags": [],
        "id": "eaArDwjS1mRX"
      },
      "outputs": [],
      "source": [
        "#import all packages needed\n",
        "import pandas as pd\n",
        "from sklearn.model_selection import train_test_split\n",
        "from sklearn import preprocessing\n",
        "from sklearn import svm\n",
        "from sklearn import model_selection\n",
        "from sklearn import linear_model"
      ]
    },
    {
      "cell_type": "markdown",
      "metadata": {
        "tags": [],
        "id": "EAM7JXk61mRY"
      },
      "source": [
        "The code below loads the data and remove samples with missing values. It also prints the number of samples in the datasets."
      ]
    },
    {
      "cell_type": "code",
      "execution_count": 4,
      "metadata": {
        "tags": [],
        "colab": {
          "base_uri": "https://localhost:8080/"
        },
        "id": "q2sd6wHL1mRY",
        "outputId": "e26b37c0-ad1f-483b-b89e-db8a4d162934"
      },
      "outputs": [
        {
          "output_type": "stream",
          "name": "stdout",
          "text": [
            "Total number of samples: 3164\n"
          ]
        }
      ],
      "source": [
        "#load the data - do not change the path below!\n",
        "df = pd.read_csv('kc_house_data.csv', sep = ',')\n",
        "\n",
        "#remove the data samples with missing values (NaN)\n",
        "df = df.dropna()\n",
        "\n",
        "Data = df.values\n",
        "m = Data.shape[0]\n",
        "Y = Data[:m,2]\n",
        "X = Data[:m,3:]\n",
        "\n",
        "print(\"Total number of samples:\",m)"
      ]
    },
    {
      "cell_type": "markdown",
      "metadata": {
        "tags": [],
        "id": "2IrgkmXY1mRZ"
      },
      "source": [
        "# Data preprocessing"
      ]
    },
    {
      "cell_type": "markdown",
      "metadata": {
        "id": "NnfVQLkv1mRa"
      },
      "source": [
        "## TO DO - SPLIT DATA INTO TRAINING, VALIDATION, AND TESTING, WITH THE FOLLOWING PERCENTAGES: 60%, 20%, 20%\n",
        "\n",
        "Use the train_test_split function from sklearn.model_selection to do it; in every call fix random_state to your numero_di_matricola. At the end, you should store the data in the following variables:\n",
        "- Xtrain, Ytrain: training data\n",
        "- Xval, Yval: validation data\n",
        "- Xtrain_val, Ytrain_val: training and validation data\n",
        "- Xtest, Ytest: test data\n",
        "\n",
        "The code then prints the number of samples in Xtrain, Xval, Xtrain_val, and Xtest\n",
        "\n",
        "IMPORTANT:\n",
        "- first split the data into training+validation and test; the first part of the data in output from train_test_split must correspond to the training+validation\n",
        "- then split training+validation into training and validation; the first part of the data in output from train_test_split must correspond to the training\n"
      ]
    },
    {
      "cell_type": "code",
      "execution_count": 5,
      "metadata": {
        "tags": [],
        "colab": {
          "base_uri": "https://localhost:8080/"
        },
        "id": "IZI9-cXK1mRb",
        "outputId": "7dd75473-6f16-4c3d-c2c6-eaec98b41946"
      },
      "outputs": [
        {
          "output_type": "stream",
          "name": "stdout",
          "text": [
            "Training size:  2024\n",
            "Validation size:  507\n",
            "Training and validation size 2531\n",
            "Test size 633\n"
          ]
        }
      ],
      "source": [
        "#split the data into training+validation and test\n",
        "X_train_val, Xtest, Y_train_val, Ytest = train_test_split(X, Y, test_size=0.2, random_state=202324)\n",
        "\n",
        "#split training+validation into training and validation\n",
        "Xtrain, Xval, Ytrain, Yval = train_test_split(X_train_val, Y_train_val, test_size=0.2, random_state=202324)\n",
        "\n",
        "print(\"Training size: \", Xtrain.shape[0])\n",
        "print(\"Validation size: \", Xval.shape[0])\n",
        "print(\"Training and validation size\",X_train_val.shape[0])\n",
        "print(\"Test size\",Xtest.shape[0])"
      ]
    },
    {
      "cell_type": "markdown",
      "metadata": {
        "id": "RqjkzEF61mRc"
      },
      "source": [
        "## TO DO - STANDARDIZE THE DATA\n",
        "\n",
        "Standardize the data using the preprocessing.StandardScaler from scikit learn.\n",
        "\n",
        "If V is the name of the variable storing part of the data, the corresponding standardized version should be stored in V_scaled. For example, the scaled version of Xtrain should be stored in Xtrain_scaled"
      ]
    },
    {
      "cell_type": "code",
      "execution_count": 6,
      "metadata": {
        "tags": [],
        "id": "BfzO0h2g1mRd"
      },
      "outputs": [],
      "source": [
        "from sklearn.preprocessing import StandardScaler\n",
        "\n",
        "scaler = StandardScaler()\n",
        "Xtrain_scaled = scaler.fit_transform(Xtrain)\n",
        "Xval_scaled = scaler.transform(Xval)\n",
        "Xtrain_val_scaled = scaler.transform(X_train_val)\n",
        "Xtest_scaled = scaler.transform(Xtest)"
      ]
    },
    {
      "cell_type": "markdown",
      "metadata": {
        "tags": [],
        "id": "OI0gX1ky1mRd"
      },
      "source": [
        "# SVM models: learning the best model for each kernel"
      ]
    },
    {
      "cell_type": "markdown",
      "metadata": {
        "id": "KicXKTbi1mRe"
      },
      "source": [
        "## TO DO - CHOOSE THE BEST HYPERPARAMETERS FOR LINEAR KERNEL\n",
        "\n",
        "Consider svm.SVR and linear kernel. Consider the following hyperparameters and their values:\n",
        "- C: 0.1, 1, 10, 100, 1000\n",
        "\n",
        "Leave all other input parameters to default.\n",
        "\n",
        "Find the best value of the hyperparameters using 5-fold cross validation. Use model_selection.GridSearchCV to perform the cross-validation.\n",
        "\n",
        "Print the best value of the hyperparameters (they are in the attribute best_params_ from GridSearchCV)"
      ]
    },
    {
      "cell_type": "code",
      "execution_count": null,
      "metadata": {
        "id": "P5bhdI691mRe"
      },
      "outputs": [],
      "source": [
        "from sklearn.model_selection import GridSearchCV\n",
        "from sklearn.svm import SVR\n",
        "\n",
        "#set up the parameter grid\n",
        "param_grid = {'C': [0.1, 1, 10, 100, 1000]}\n",
        "\n",
        "#initialize the SVR model\n",
        "model = SVR(kernel='linear')\n",
        "\n",
        "#perform the grid search with 5-fold cross-validation\n",
        "grid = GridSearchCV(model, param_grid, cv=5)\n",
        "grid.fit(X, Y)\n",
        "\n",
        "print(\"\\nLinear SVM\")\n",
        "# COMPLETE\n",
        "print(\"Best value for hyperparameters: \", grid.best_params_)"
      ]
    },
    {
      "cell_type": "markdown",
      "metadata": {
        "id": "mXOMkPeu1mRe"
      },
      "source": [
        "## TO DO - LEARN A MODEL WITH LINEAR KERNEL AND BEST CHOICE OF HYPERPARAMETERS\n",
        "\n",
        "This model will be compared with the best models with other kernels using validation (not cross validation).\n",
        "\n",
        "DO NOT PASS PARAMETERS BY HARD-CODING THEM IN THE CODE.\n",
        "\n",
        "Print the training score of the best model."
      ]
    },
    {
      "cell_type": "code",
      "execution_count": null,
      "metadata": {
        "id": "7jn0Pktl1mRf"
      },
      "outputs": [],
      "source": [
        "# COMPLETE\n",
        "print(\"Training score: \", # COMPLETE)"
      ]
    },
    {
      "cell_type": "markdown",
      "metadata": {
        "id": "c0m7lQpd1mRf"
      },
      "source": [
        "## TO DO - CHOOSE THE BEST HYPERPARAMETERS FOR POLY KERNEL\n",
        "\n",
        "Consider svm.SVR and polynomial kernel. Consider the following hyperparameters and their values:\n",
        "- C: 0.1, 1, 10, 100, 1000\n",
        "- degree: 2, 3, 4\n",
        "\n",
        "Leave all other input parameters to default.\n",
        "\n",
        "Find the best value of the hyperparameters using 5-fold cross validation. Use model_selection.GridSearchCV to perform the cross-validation.\n",
        "\n",
        "Print the best value of the hyperparameters."
      ]
    },
    {
      "cell_type": "code",
      "execution_count": null,
      "metadata": {
        "tags": [],
        "id": "9GQ-9O_n1mRg"
      },
      "outputs": [],
      "source": [
        "print(\"\\nPoly SVM\")\n",
        "# COMPLETE\n",
        "print(\"Best value for hyperparameters: \", # COMPLETE)"
      ]
    },
    {
      "cell_type": "markdown",
      "metadata": {
        "tags": [],
        "id": "8PtpPvVb1mRg"
      },
      "source": [
        "## TO DO - LEARN A MODEL WITH POLY KERNEL AND BEST CHOICE OF HYPERPARAMETERS\n",
        "\n",
        "This model will be compared with the best models with other kernels using validation (not cross validation).\n",
        "\n",
        "DO NOT PASS PARAMETERS BY HARD-CODING THEM IN THE CODE.\n",
        "\n",
        "Print the training score of the best model."
      ]
    },
    {
      "cell_type": "code",
      "execution_count": null,
      "metadata": {
        "tags": [],
        "id": "2ou0V4LG1mRg"
      },
      "outputs": [],
      "source": [
        "# COMPLETE\n",
        "print(\"Training score: \", # COMPLETE)"
      ]
    },
    {
      "cell_type": "markdown",
      "metadata": {
        "id": "NYPPhLfl1mRh"
      },
      "source": [
        "## TO DO - CHOOSE THE BEST HYPERPARAMETERS FOR RBF KERNEL\n",
        "\n",
        "Consider svm.SVR and RBF kernel. Consider the following hyperparameters and their values:\n",
        "- C: 0.1, 1, 10, 100, 1000\n",
        "- gamma: 0.01\n",
        "\n",
        "Leave all other input parameters to default.\n",
        "\n",
        "Find the best value of the hyperparameters using 5-fold cross validation. Use model_selection.GridSearchCV to perform the cross-validation.\n",
        "\n",
        "Print the best value of the hyperparameters."
      ]
    },
    {
      "cell_type": "code",
      "execution_count": null,
      "metadata": {
        "tags": [],
        "id": "4Ns07PNO1mRh"
      },
      "outputs": [],
      "source": [
        "print(\"\\nRBF SVM\")\n",
        "# COMPLETE\n",
        "print(\"Best value for hyperparameters: \", # COMPLETE)"
      ]
    },
    {
      "cell_type": "markdown",
      "metadata": {
        "id": "3KSWNFDq1mRh"
      },
      "source": [
        "## TO DO - LEARN A MODEL WITH RBF KERNEL AND BEST CHOICE OF HYPERPARAMETERS\n",
        "\n",
        "This model will be compared with the best models with other kernels using validation (not cross validation).\n",
        "\n",
        "DO NOT PASS PARAMETERS BY HARD-CODING THEM IN THE CODE.\n",
        "\n",
        "Print the training score of the best model."
      ]
    },
    {
      "cell_type": "code",
      "execution_count": null,
      "metadata": {
        "tags": [],
        "id": "vkEVeZCx1mRi"
      },
      "outputs": [],
      "source": [
        "# COMPLETE\n",
        "print(\"Training score: \", # COMPLETE)"
      ]
    },
    {
      "cell_type": "markdown",
      "metadata": {
        "tags": [],
        "id": "AJusXs-C1mRi"
      },
      "source": [
        "## TO DO - CHOOSE THE BEST HYPERPARAMETERS FOR SIGMOID KERNEL\n",
        "\n",
        "Consider svm.SVR and sigmoid kernel. Consider the following hyperparameters and their values:\n",
        "- C: 0.1, 1, 10, 100, 1000\n",
        "- gamma: 0.01\n",
        "- coef0: 0, 1\n",
        "\n",
        "Leave all other input parameters to default.\n",
        "\n",
        "Find the best value of the hyperparameters using 5-fold cross validation. Use model_selection.GridSearchCV to perform the cross-validation.\n",
        "\n",
        "Print the best value of the hyperparameters."
      ]
    },
    {
      "cell_type": "code",
      "execution_count": null,
      "metadata": {
        "tags": [],
        "id": "1epyU_Ew1mRj"
      },
      "outputs": [],
      "source": [
        "print(\"\\nSigmoid SVM\")\n",
        "# COMPLETE\n",
        "print(\"Best value for hyperparameters: \", # COMPLETE)"
      ]
    },
    {
      "cell_type": "markdown",
      "metadata": {
        "tags": [],
        "id": "dpHoX0iX1mRj"
      },
      "source": [
        "## TO DO - LEARN A MODEL WITH SIGMOID KERNEL AND BEST CHOICE OF HYPERPARAMETERS\n",
        "\n",
        "This model will be compared with the best models with other kernels using validation (not cross validation).\n",
        "\n",
        "DO NOT PASS PARAMETERS BY HARD-CODING THEM IN THE CODE.\n",
        "\n",
        "Print the training score of the best model."
      ]
    },
    {
      "cell_type": "code",
      "execution_count": null,
      "metadata": {
        "tags": [],
        "id": "BWVAsJSo1mRj"
      },
      "outputs": [],
      "source": [
        "# COMPLETE\n",
        "print(\"Training score: \", # COMPLETE)"
      ]
    },
    {
      "cell_type": "markdown",
      "metadata": {
        "tags": [],
        "id": "OV-90UWb1mRj"
      },
      "source": [
        "## TO DO - USE VALIDATION TO CHOOSE THE BEST MODEL AMONG THE ONES LEARNED FOR THE VARIOUS KERNELS\n",
        "\n",
        "Use validation to choose the best model among the four ones (one for each kernel) you have learned above.\n",
        "\n",
        "Print, following exactly the order described here, with 1 value for each line:\n",
        "- the validation score of SVM with linear kernel (the template below does not include such print)\n",
        "- the validation score of SVM with polynomial kernel (the template below does not include such print)\n",
        "- the validation score of SVM with rbf kernel (the template below does not include such print)\n",
        "- the validation score of SVM with sigmoid kernel (the template below does not include such print)\n",
        "- the best kernel (e.g., sigmoid)\n",
        "- the validation score of the best kernel\n",
        "\n",
        "For the first 4 prints, use the format: \"kernel validation score: \". For example, for linear kernel \"Linear validation score: \", for rbf \"rbf validation score: \""
      ]
    },
    {
      "cell_type": "code",
      "execution_count": null,
      "metadata": {
        "tags": [],
        "id": "PgkGYN7J1mRk"
      },
      "outputs": [],
      "source": [
        "print(\"\\nVALIDATION TO CHOOSE SVM KERNEL\")\n",
        "\n",
        "# COMPLETE - INCLUDING THE FIRST 4 PRINT FROM THE LIST ABOVE\n",
        "\n",
        "print(\"Best kernel: \", # COMPLETE)\n",
        "print(\"Validation score of best kernel: \", # COMPLETE)"
      ]
    },
    {
      "cell_type": "markdown",
      "metadata": {
        "id": "yedktVQA1mRk"
      },
      "source": [
        "## TO DO - LEARN THE FINAL MODEL FOR WHICH YOU WANT TO ESTIMATE THE GENERALIZATION ERROR\n",
        "\n",
        "Learn the final model (i.e., the one you would use to make predictions about future data).\n",
        "\n",
        "Print the score of the model on the data used to learn it."
      ]
    },
    {
      "cell_type": "code",
      "execution_count": null,
      "metadata": {
        "tags": [],
        "id": "V9elijNC1mRl"
      },
      "outputs": [],
      "source": [
        "print(\"\\nTRAINING SCORE BEST MODEL\")\n",
        "# COMPLETE\n",
        "print(\"Score of the best model on the data used to learn it: \", # COMPLETE)"
      ]
    },
    {
      "cell_type": "markdown",
      "metadata": {
        "tags": [],
        "id": "H_h3Q1ny1mRl"
      },
      "source": [
        "## TO DO - PRINT THE ESTIMATE  OF THE GENERALIZATION ERROR FOR THE FINAL MODEL\n",
        "\n",
        "Print the estimate of the generalization \"score\" for the final model. The generalization \"score\" is the score computed on the data used to estimate the generalization error."
      ]
    },
    {
      "cell_type": "code",
      "execution_count": null,
      "metadata": {
        "tags": [],
        "id": "ttNU8SuS1mRl"
      },
      "outputs": [],
      "source": [
        "print(\"\\nGENERALIZATION SCORE BEST MODEL\")\n",
        "\n",
        "print(\"Estimate of the generalization score for best SVM model: \",# COMPLETE)"
      ]
    },
    {
      "cell_type": "markdown",
      "metadata": {
        "tags": [],
        "id": "PSp9bW331mRm"
      },
      "source": [
        "## TO DO - ANSWER THE FOLLOWING\n",
        "\n",
        "Print the training score (score on data used to train the model) and the generalization score (score on data used to estimate the generalization error) of the final SVM model THAT YOU OBTAIN WHEN YOU RUN THE CODE, one per line, printing the smallest one first. NOTE: THE VALUES HERE SHOULD BE HARDCODED\n",
        "\n",
        "Print you answer (yes/no) to the following question: does the relation (i.e., smaller, larger) between the training score and the generalization score agree with the theory?\n",
        "\n",
        "Print your motivation for the yes/no answer above, using at most 500 characters."
      ]
    },
    {
      "cell_type": "code",
      "execution_count": null,
      "metadata": {
        "tags": [],
        "id": "bqjmotUw1mRm"
      },
      "outputs": [],
      "source": [
        "print(\"\\nANSWER\")\n",
        "\n",
        "#note that you may have to invert the order of the following 2 lines, print the smallest 1 first. THE VALUES HERE SHOULD BE HARD CODED!\n",
        "print(\"Training score: \", # COMPLETE )\n",
        "print(\"Generalization score: \", # COMPLETE )\n",
        "\n",
        "#the following is a string with you anwer\n",
        "motivation = \"MY ANSWER\"\n",
        "\n",
        "print(motivation)"
      ]
    },
    {
      "cell_type": "markdown",
      "metadata": {
        "tags": [],
        "id": "-NIbEBJR1mRn"
      },
      "source": [
        "## TO DO: LEARN A STANDARD LINEAR MODEL\n",
        "Learn a standard linear model using scikit learn.\n",
        "\n",
        "Print the score of the model on the data used to learn it.\n",
        "\n",
        "Print the generalization \"score\" of the model."
      ]
    },
    {
      "cell_type": "code",
      "execution_count": null,
      "metadata": {
        "id": "gjwvLIK51mRp"
      },
      "outputs": [],
      "source": [
        "print(\"\\nLR MODEL\")\n",
        "# COMPLETE\n",
        "print(\"Score of LR model on data used to learng it: \", # COMPLETE)\n",
        "print(\"Generalization score of LR model: \", # COMPLETE)"
      ]
    }
  ],
  "metadata": {
    "anaconda-cloud": {},
    "celltoolbar": "Raw Cell Format",
    "kernelspec": {
      "display_name": "Python 3 (ipykernel)",
      "language": "python",
      "name": "python3"
    },
    "language_info": {
      "codemirror_mode": {
        "name": "ipython",
        "version": 3
      },
      "file_extension": ".py",
      "mimetype": "text/x-python",
      "name": "python",
      "nbconvert_exporter": "python",
      "pygments_lexer": "ipython3",
      "version": "3.11.4"
    },
    "colab": {
      "provenance": [],
      "include_colab_link": true
    }
  },
  "nbformat": 4,
  "nbformat_minor": 0
}